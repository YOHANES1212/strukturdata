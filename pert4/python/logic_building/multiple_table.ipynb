{
 "cells": [
  {
   "cell_type": "code",
   "execution_count": null,
   "id": "b3ba4264",
   "metadata": {
    "vscode": {
     "languageId": "plaintext"
    }
   },
   "outputs": [],
   "source": [
    "def printTable(n):\n",
    "\n",
    "    for i in range (1, 11): \n",
    "        \n",
    "        # multiples from 1 to 10\n",
    "        print (\"%d * %d = %d\" % (n, i, n * i))"
   ]
  },
  {
   "cell_type": "code",
   "execution_count": null,
   "id": "0e915efa",
   "metadata": {
    "vscode": {
     "languageId": "plaintext"
    }
   },
   "outputs": [],
   "source": [
    "n = 5\n",
    "printTable(n)"
   ]
  }
 ],
 "metadata": {
  "language_info": {
   "name": "python"
  }
 },
 "nbformat": 4,
 "nbformat_minor": 5
}
