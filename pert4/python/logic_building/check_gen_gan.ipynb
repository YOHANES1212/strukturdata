{
 "cells": [
  {
   "cell_type": "code",
   "execution_count": null,
   "metadata": {
    "vscode": {
     "languageId": "plaintext"
    }
   },
   "outputs": [],
   "source": [
    "def isEven(n):\n",
    "    if n == (n>>1) << 1:\n",
    "        return True\n",
    "    else: \n",
    "        return False\n",
    "\n",
    "n = 5\n",
    "if isEven(n):\n",
    "    print(\"true\")\n",
    "else: \n",
    "    print (\"false\")"
   ]
  }
 ],
 "metadata": {
  "language_info": {
   "name": "python"
  }
 },
 "nbformat": 4,
 "nbformat_minor": 5
}
