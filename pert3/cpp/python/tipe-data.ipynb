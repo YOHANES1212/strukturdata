{
 "cells": [
  {
   "cell_type": "code",
   "execution_count": null,
   "metadata": {},
   "outputs": [],
   "source": [
    "a = 1\n",
    "print(a)\n",
    "print(type(a))"
   ]
  },
  {
   "cell_type": "markdown",
   "id": "d9f82fb4",
   "metadata": {},
   "source": [
    "STRING"
   ]
  },
  {
   "cell_type": "code",
   "execution_count": null,
   "id": "9c789394",
   "metadata": {},
   "outputs": [],
   "source": [
    "b = \"hello\"\n",
    "print(b)\n",
    "print(type(b))"
   ]
  },
  {
   "cell_type": "markdown",
   "id": "d9a6bfbb",
   "metadata": {},
   "source": [
    "FLOAT"
   ]
  },
  {
   "cell_type": "code",
   "execution_count": null,
   "id": "c8027e7b",
   "metadata": {},
   "outputs": [],
   "source": [
    "c = 10.5\n",
    "print(c)\n",
    "print(type(c))"
   ]
  },
  {
   "cell_type": "markdown",
   "id": "afc9dbd6",
   "metadata": {},
   "source": [
    "COMPLEX"
   ]
  },
  {
   "cell_type": "code",
   "execution_count": null,
   "id": "0d60fde9",
   "metadata": {},
   "outputs": [],
   "source": [
    "d = 1j\n",
    "print(d)\n",
    "print(type(d))"
   ]
  },
  {
   "cell_type": "markdown",
   "id": "639870eb",
   "metadata": {},
   "source": [
    "LIST"
   ]
  },
  {
   "cell_type": "code",
   "execution_count": null,
   "id": "79db1d22",
   "metadata": {},
   "outputs": [],
   "source": [
    "e = [\"a\",\"b\",\"c\"]\n",
    "print(e)\n",
    "print(type(e))"
   ]
  },
  {
   "cell_type": "markdown",
   "id": "4508967d",
   "metadata": {},
   "source": [
    "TUPPLE"
   ]
  },
  {
   "cell_type": "code",
   "execution_count": null,
   "id": "54e70306",
   "metadata": {},
   "outputs": [],
   "source": [
    "f = (\"a\",\"b\",\"c\")\n",
    "print(f)\n",
    "print(type(f))"
   ]
  },
  {
   "cell_type": "markdown",
   "id": "7c767f5b",
   "metadata": {},
   "source": [
    "RANGE"
   ]
  },
  {
   "cell_type": "code",
   "execution_count": null,
   "id": "59db5da4",
   "metadata": {},
   "outputs": [],
   "source": [
    "g = range(5)\n",
    "print(g)\n",
    "print(type(g))"
   ]
  },
  {
   "cell_type": "markdown",
   "id": "64dadb7a",
   "metadata": {},
   "source": [
    "SET"
   ]
  },
  {
   "cell_type": "code",
   "execution_count": null,
   "id": "0a170300",
   "metadata": {},
   "outputs": [],
   "source": [
    "h = {\"ani\", \"budi\"}\n",
    "print(h)\n",
    "print(type(h))"
   ]
  },
  {
   "cell_type": "markdown",
   "id": "3d4dcbfa",
   "metadata": {},
   "source": [
    "DICT"
   ]
  },
  {
   "cell_type": "code",
   "execution_count": null,
   "id": "3657a75a",
   "metadata": {},
   "outputs": [],
   "source": [
    "i = {\"nama\" : \"ani\"}\n",
    "print(i)\n",
    "print(type(i))"
   ]
  },
  {
   "cell_type": "markdown",
   "id": "4b2b2849",
   "metadata": {},
   "source": [
    "FROZENSET"
   ]
  },
  {
   "cell_type": "code",
   "execution_count": null,
   "id": "16425a9f",
   "metadata": {},
   "outputs": [],
   "source": [
    "j = frozenset({\"ani\", \"budi\"})\n",
    "print(j)\n",
    "print(type(j))"
   ]
  },
  {
   "cell_type": "markdown",
   "id": "3e3e676c",
   "metadata": {},
   "source": [
    "BOOL"
   ]
  },
  {
   "cell_type": "code",
   "execution_count": null,
   "id": "4b393e0f",
   "metadata": {},
   "outputs": [],
   "source": [
    "k = True\n",
    "print(k)\n",
    "print(type(k))"
   ]
  },
  {
   "cell_type": "markdown",
   "id": "8548b78e",
   "metadata": {},
   "source": [
    "BYTES"
   ]
  },
  {
   "cell_type": "code",
   "execution_count": null,
   "id": "ee9dd4f0",
   "metadata": {},
   "outputs": [],
   "source": [
    "l = b\"hello\"\n",
    "print(l)\n",
    "print(type(l))"
   ]
  },
  {
   "cell_type": "markdown",
   "id": "1b40144c",
   "metadata": {},
   "source": [
    "BYTE ARRAY"
   ]
  },
  {
   "cell_type": "code",
   "execution_count": null,
   "id": "72382d9c",
   "metadata": {},
   "outputs": [],
   "source": [
    "m = bytearray(5)\n",
    "print(m)\n",
    "print(type(m))"
   ]
  },
  {
   "cell_type": "markdown",
   "id": "f9093d4a",
   "metadata": {},
   "source": [
    "MEMORY VIEW"
   ]
  },
  {
   "cell_type": "code",
   "execution_count": null,
   "id": "8438ff1d",
   "metadata": {},
   "outputs": [],
   "source": [
    "n = memoryview(bytes(5))\n",
    "print(n)\n",
    "print(type(n))"
   ]
  },
  {
   "cell_type": "markdown",
   "id": "119d5ea6",
   "metadata": {},
   "source": [
    "NONE"
   ]
  },
  {
   "cell_type": "code",
   "execution_count": null,
   "id": "2a8dee13",
   "metadata": {},
   "outputs": [],
   "source": [
    "o = None\n",
    "print(o)\n",
    "print(type(o))"
   ]
  }
 ],
 "metadata": {
  "language_info": {
   "name": "python"
  }
 },
 "nbformat": 4,
 "nbformat_minor": 5
}
